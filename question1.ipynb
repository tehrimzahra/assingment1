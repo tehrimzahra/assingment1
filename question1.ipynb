{
 "cells": [
  {
   "cell_type": "code",
   "execution_count": null,
   "metadata": {},
   "outputs": [],
   "source": []
  },
  {
   "cell_type": "code",
   "execution_count": 1,
   "metadata": {},
   "outputs": [],
   "source": [
    "def calculate_ages():\n",
    "    anton_age = 21\n",
    "    beth_age = anton_age\n",
    "    chen_age = beth_age + 20\n",
    "    drew_age = chen_age + anton_age\n",
    "    \n",
    "    \n",
    "    ethan_age = chen_age\n",
    "    print(f\"Anton is {anton_age} years old.\")\n",
    "    print(f\"Beth is {beth_age} years old.\")\n",
    "    print(f\"Chen is {chen_age} years old.\")\n",
    "    print(f\"Drew is {drew_age} years old.\")\n",
    "    print(f\"Ethan is {ethan_age} years old.\")\n",
    "calculate_ages()\n",
    "\n"
   ]
  }
 ],
 "metadata": {
  "kernelspec": {
   "display_name": "Python 3",
   "language": "python",
   "name": "python3"
  },
  "language_info": {
   "codemirror_mode": {
    "name": "ipython",
    "version": 3
   },
   "file_extension": ".py",
   "mimetype": "text/x-python",
   "name": "python",
   "nbconvert_exporter": "python",
   "pygments_lexer": "ipython3",
   "version": "3.12.4"
  }
 },
 "nbformat": 4,
 "nbformat_minor": 2
}
